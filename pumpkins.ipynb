{
 "cells": [
  {
   "cell_type": "code",
   "execution_count": 1,
   "metadata": {},
   "outputs": [],
   "source": [
    "import numpy as np\n",
    "import pandas as pd\n",
    "import seaborn as sns\n",
    "import os"
   ]
  },
  {
   "cell_type": "code",
   "execution_count": 3,
   "metadata": {},
   "outputs": [],
   "source": [
    "path = '.\\data\\\\'"
   ]
  },
  {
   "cell_type": "code",
   "execution_count": 17,
   "metadata": {},
   "outputs": [],
   "source": [
    "def read_csvs(path: str) -> pd.DataFrame:\n",
    "\n",
    "    \"\"\"Take a path argument and use the list of files using the os.walk function \n",
    "    to read all the files and concatenate them into a single dataframe\"\"\"\n",
    "\n",
    "    files = [files for (root, dir, files) in os.walk(path)][0]\n",
    "\n",
    "    data = pd.DataFrame()\n",
    "\n",
    "    for file in files:\n",
    "        data_ = pd.read_csv(path+file)\n",
    "        data = pd.concat([data, data_], axis=0)\n",
    "\n",
    "    return data\n"
   ]
  },
  {
   "cell_type": "code",
   "execution_count": 18,
   "metadata": {},
   "outputs": [
    {
     "data": {
      "text/html": [
       "<div>\n",
       "<style scoped>\n",
       "    .dataframe tbody tr th:only-of-type {\n",
       "        vertical-align: middle;\n",
       "    }\n",
       "\n",
       "    .dataframe tbody tr th {\n",
       "        vertical-align: top;\n",
       "    }\n",
       "\n",
       "    .dataframe thead th {\n",
       "        text-align: right;\n",
       "    }\n",
       "</style>\n",
       "<table border=\"1\" class=\"dataframe\">\n",
       "  <thead>\n",
       "    <tr style=\"text-align: right;\">\n",
       "      <th></th>\n",
       "      <th>Commodity Name</th>\n",
       "      <th>City Name</th>\n",
       "      <th>Type</th>\n",
       "      <th>Package</th>\n",
       "      <th>Variety</th>\n",
       "      <th>Sub Variety</th>\n",
       "      <th>Grade</th>\n",
       "      <th>Date</th>\n",
       "      <th>Low Price</th>\n",
       "      <th>High Price</th>\n",
       "      <th>...</th>\n",
       "      <th>Condition</th>\n",
       "      <th>Appearance</th>\n",
       "      <th>Storage</th>\n",
       "      <th>Crop</th>\n",
       "      <th>Repack</th>\n",
       "      <th>Trans Mode</th>\n",
       "      <th>Offerings</th>\n",
       "      <th>Market Tone</th>\n",
       "      <th>Price Comment</th>\n",
       "      <th>Comments</th>\n",
       "    </tr>\n",
       "  </thead>\n",
       "  <tbody>\n",
       "    <tr>\n",
       "      <th>0</th>\n",
       "      <td>PUMPKINS</td>\n",
       "      <td>ATLANTA</td>\n",
       "      <td>NaN</td>\n",
       "      <td>24 inch bins</td>\n",
       "      <td>HOWDEN TYPE</td>\n",
       "      <td>NaN</td>\n",
       "      <td>NaN</td>\n",
       "      <td>09/24/2016</td>\n",
       "      <td>140.0</td>\n",
       "      <td>154.75</td>\n",
       "      <td>...</td>\n",
       "      <td>NaN</td>\n",
       "      <td>NaN</td>\n",
       "      <td>NaN</td>\n",
       "      <td>NaN</td>\n",
       "      <td>N</td>\n",
       "      <td>NaN</td>\n",
       "      <td>NaN</td>\n",
       "      <td>NaN</td>\n",
       "      <td>NaN</td>\n",
       "      <td>NaN</td>\n",
       "    </tr>\n",
       "    <tr>\n",
       "      <th>1</th>\n",
       "      <td>PUMPKINS</td>\n",
       "      <td>ATLANTA</td>\n",
       "      <td>NaN</td>\n",
       "      <td>24 inch bins</td>\n",
       "      <td>HOWDEN TYPE</td>\n",
       "      <td>NaN</td>\n",
       "      <td>NaN</td>\n",
       "      <td>09/24/2016</td>\n",
       "      <td>145.0</td>\n",
       "      <td>154.75</td>\n",
       "      <td>...</td>\n",
       "      <td>NaN</td>\n",
       "      <td>NaN</td>\n",
       "      <td>NaN</td>\n",
       "      <td>NaN</td>\n",
       "      <td>N</td>\n",
       "      <td>NaN</td>\n",
       "      <td>NaN</td>\n",
       "      <td>NaN</td>\n",
       "      <td>NaN</td>\n",
       "      <td>NaN</td>\n",
       "    </tr>\n",
       "    <tr>\n",
       "      <th>2</th>\n",
       "      <td>PUMPKINS</td>\n",
       "      <td>ATLANTA</td>\n",
       "      <td>NaN</td>\n",
       "      <td>24 inch bins</td>\n",
       "      <td>HOWDEN TYPE</td>\n",
       "      <td>NaN</td>\n",
       "      <td>NaN</td>\n",
       "      <td>09/24/2016</td>\n",
       "      <td>150.0</td>\n",
       "      <td>154.75</td>\n",
       "      <td>...</td>\n",
       "      <td>NaN</td>\n",
       "      <td>NaN</td>\n",
       "      <td>NaN</td>\n",
       "      <td>NaN</td>\n",
       "      <td>N</td>\n",
       "      <td>NaN</td>\n",
       "      <td>NaN</td>\n",
       "      <td>NaN</td>\n",
       "      <td>NaN</td>\n",
       "      <td>NaN</td>\n",
       "    </tr>\n",
       "    <tr>\n",
       "      <th>3</th>\n",
       "      <td>PUMPKINS</td>\n",
       "      <td>ATLANTA</td>\n",
       "      <td>NaN</td>\n",
       "      <td>24 inch bins</td>\n",
       "      <td>HOWDEN TYPE</td>\n",
       "      <td>NaN</td>\n",
       "      <td>NaN</td>\n",
       "      <td>09/24/2016</td>\n",
       "      <td>150.0</td>\n",
       "      <td>150.00</td>\n",
       "      <td>...</td>\n",
       "      <td>NaN</td>\n",
       "      <td>NaN</td>\n",
       "      <td>NaN</td>\n",
       "      <td>NaN</td>\n",
       "      <td>N</td>\n",
       "      <td>NaN</td>\n",
       "      <td>NaN</td>\n",
       "      <td>NaN</td>\n",
       "      <td>NaN</td>\n",
       "      <td>NaN</td>\n",
       "    </tr>\n",
       "    <tr>\n",
       "      <th>4</th>\n",
       "      <td>PUMPKINS</td>\n",
       "      <td>ATLANTA</td>\n",
       "      <td>NaN</td>\n",
       "      <td>24 inch bins</td>\n",
       "      <td>HOWDEN TYPE</td>\n",
       "      <td>NaN</td>\n",
       "      <td>NaN</td>\n",
       "      <td>10/01/2016</td>\n",
       "      <td>140.0</td>\n",
       "      <td>154.75</td>\n",
       "      <td>...</td>\n",
       "      <td>NaN</td>\n",
       "      <td>NaN</td>\n",
       "      <td>NaN</td>\n",
       "      <td>NaN</td>\n",
       "      <td>N</td>\n",
       "      <td>NaN</td>\n",
       "      <td>NaN</td>\n",
       "      <td>NaN</td>\n",
       "      <td>NaN</td>\n",
       "      <td>NaN</td>\n",
       "    </tr>\n",
       "  </tbody>\n",
       "</table>\n",
       "<p>5 rows × 29 columns</p>\n",
       "</div>"
      ],
      "text/plain": [
       "  Commodity Name City Name Type       Package      Variety Sub Variety  Grade  \\\n",
       "0       PUMPKINS   ATLANTA  NaN  24 inch bins  HOWDEN TYPE         NaN    NaN   \n",
       "1       PUMPKINS   ATLANTA  NaN  24 inch bins  HOWDEN TYPE         NaN    NaN   \n",
       "2       PUMPKINS   ATLANTA  NaN  24 inch bins  HOWDEN TYPE         NaN    NaN   \n",
       "3       PUMPKINS   ATLANTA  NaN  24 inch bins  HOWDEN TYPE         NaN    NaN   \n",
       "4       PUMPKINS   ATLANTA  NaN  24 inch bins  HOWDEN TYPE         NaN    NaN   \n",
       "\n",
       "         Date  Low Price  High Price  ...  Condition  Appearance Storage Crop  \\\n",
       "0  09/24/2016      140.0      154.75  ...        NaN         NaN     NaN  NaN   \n",
       "1  09/24/2016      145.0      154.75  ...        NaN         NaN     NaN  NaN   \n",
       "2  09/24/2016      150.0      154.75  ...        NaN         NaN     NaN  NaN   \n",
       "3  09/24/2016      150.0      150.00  ...        NaN         NaN     NaN  NaN   \n",
       "4  10/01/2016      140.0      154.75  ...        NaN         NaN     NaN  NaN   \n",
       "\n",
       "  Repack Trans Mode  Offerings Market Tone  Price Comment  Comments  \n",
       "0      N        NaN        NaN         NaN            NaN       NaN  \n",
       "1      N        NaN        NaN         NaN            NaN       NaN  \n",
       "2      N        NaN        NaN         NaN            NaN       NaN  \n",
       "3      N        NaN        NaN         NaN            NaN       NaN  \n",
       "4      N        NaN        NaN         NaN            NaN       NaN  \n",
       "\n",
       "[5 rows x 29 columns]"
      ]
     },
     "execution_count": 18,
     "metadata": {},
     "output_type": "execute_result"
    }
   ],
   "source": [
    "data = read_csvs(path)\n",
    "data.head()"
   ]
  },
  {
   "cell_type": "code",
   "execution_count": 19,
   "metadata": {},
   "outputs": [
    {
     "name": "stdout",
     "output_type": "stream",
     "text": [
      "<class 'pandas.core.frame.DataFrame'>\n",
      "Int64Index: 1757 entries, 0 to 102\n",
      "Data columns (total 29 columns):\n",
      " #   Column           Non-Null Count  Dtype  \n",
      "---  ------           --------------  -----  \n",
      " 0   Commodity Name   1757 non-null   object \n",
      " 1   City Name        1757 non-null   object \n",
      " 2   Type             45 non-null     object \n",
      " 3   Package          1757 non-null   object \n",
      " 4   Variety          1752 non-null   object \n",
      " 5   Sub Variety      296 non-null    object \n",
      " 6   Grade            0 non-null      float64\n",
      " 7   Date             1757 non-null   object \n",
      " 8   Low Price        1757 non-null   float64\n",
      " 9   High Price       1757 non-null   float64\n",
      " 10  Mostly Low       1654 non-null   float64\n",
      " 11  Mostly High      1654 non-null   float64\n",
      " 12  Origin           1752 non-null   object \n",
      " 13  Origin District  131 non-null    object \n",
      " 14  Item Size        1478 non-null   object \n",
      " 15  Color            716 non-null    object \n",
      " 16  Environment      0 non-null      float64\n",
      " 17  Unit of Sale     162 non-null    object \n",
      " 18  Quality          0 non-null      float64\n",
      " 19  Condition        0 non-null      float64\n",
      " 20  Appearance       0 non-null      float64\n",
      " 21  Storage          0 non-null      float64\n",
      " 22  Crop             0 non-null      float64\n",
      " 23  Repack           1757 non-null   object \n",
      " 24  Trans Mode       0 non-null      float64\n",
      " 25  Offerings        0 non-null      float64\n",
      " 26  Market Tone      103 non-null    object \n",
      " 27  Price Comment    0 non-null      float64\n",
      " 28  Comments         0 non-null      float64\n",
      "dtypes: float64(15), object(14)\n",
      "memory usage: 411.8+ KB\n"
     ]
    }
   ],
   "source": [
    "data.info()"
   ]
  },
  {
   "cell_type": "code",
   "execution_count": 20,
   "metadata": {},
   "outputs": [
    {
     "data": {
      "text/plain": [
       "Index(['Commodity Name', 'City Name', 'Type', 'Package', 'Variety',\n",
       "       'Sub Variety', 'Grade', 'Date', 'Low Price', 'High Price', 'Mostly Low',\n",
       "       'Mostly High', 'Origin', 'Origin District', 'Item Size', 'Color',\n",
       "       'Environment', 'Unit of Sale', 'Quality', 'Condition', 'Appearance',\n",
       "       'Storage', 'Crop', 'Repack', 'Trans Mode', 'Offerings', 'Market Tone',\n",
       "       'Price Comment', 'Comments'],\n",
       "      dtype='object')"
      ]
     },
     "execution_count": 20,
     "metadata": {},
     "output_type": "execute_result"
    }
   ],
   "source": [
    "data.columns"
   ]
  },
  {
   "cell_type": "code",
   "execution_count": 23,
   "metadata": {},
   "outputs": [
    {
     "name": "stdout",
     "output_type": "stream",
     "text": [
      "<class 'pandas.core.frame.DataFrame'>\n",
      "Int64Index: 1757 entries, 0 to 102\n",
      "Data columns (total 11 columns):\n",
      " #   Column       Non-Null Count  Dtype  \n",
      "---  ------       --------------  -----  \n",
      " 0   City Name    1757 non-null   object \n",
      " 1   Package      1757 non-null   object \n",
      " 2   Variety      1752 non-null   object \n",
      " 3   Date         1757 non-null   object \n",
      " 4   Low Price    1757 non-null   float64\n",
      " 5   High Price   1757 non-null   float64\n",
      " 6   Mostly Low   1654 non-null   float64\n",
      " 7   Mostly High  1654 non-null   float64\n",
      " 8   Origin       1752 non-null   object \n",
      " 9   Item Size    1478 non-null   object \n",
      " 10  Repack       1757 non-null   object \n",
      "dtypes: float64(4), object(7)\n",
      "memory usage: 164.7+ KB\n"
     ]
    }
   ],
   "source": [
    "## Remove columns surpassing a threshold of missing values as well as those not adding any value\n",
    "\n",
    "data.dropna(axis=1, thresh=int(0.6*len(data)), inplace=True)\n",
    "data.drop('Commodity Name', axis=1, inplace=True)\n",
    "data.info()"
   ]
  },
  {
   "cell_type": "code",
   "execution_count": 26,
   "metadata": {},
   "outputs": [
    {
     "data": {
      "text/plain": [
       "dtype('<M8[ns]')"
      ]
     },
     "execution_count": 26,
     "metadata": {},
     "output_type": "execute_result"
    }
   ],
   "source": [
    "#Make date into datetime object\n",
    "\n",
    "data['Date'] = pd.to_datetime(data['Date'])\n",
    "data.Date.dtype"
   ]
  }
 ],
 "metadata": {
  "interpreter": {
   "hash": "98e3af001c5d31feef5ea5a5964d747347292be8915bfaf24ba20e2667497480"
  },
  "kernelspec": {
   "display_name": "Python 3.9.5 64-bit ('base': conda)",
   "language": "python",
   "name": "python3"
  },
  "language_info": {
   "codemirror_mode": {
    "name": "ipython",
    "version": 3
   },
   "file_extension": ".py",
   "mimetype": "text/x-python",
   "name": "python",
   "nbconvert_exporter": "python",
   "pygments_lexer": "ipython3",
   "version": "3.9.5"
  },
  "orig_nbformat": 4
 },
 "nbformat": 4,
 "nbformat_minor": 2
}
